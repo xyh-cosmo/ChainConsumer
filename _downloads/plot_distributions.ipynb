{
  "cells": [
    {
      "cell_type": "code",
      "metadata": {
        "collapsed": false
      },
      "source": [
        "%matplotlib inline"
      ],
      "outputs": [],
      "execution_count": null
    },
    {
      "cell_type": "markdown",
      "source": [
        "\n# Plot Distributions\n\n\nIf you want a fast check of your distributions for high dimensional spaces (such\nthat you can only generate a surfaces for a subset of parameters), you can\nsimply plot all of the marginalised distributions using this method.\n\n\n\n"
      ],
      "metadata": {}
    },
    {
      "cell_type": "code",
      "metadata": {
        "collapsed": false
      },
      "source": [
        "import numpy as np\nfrom numpy.random import random, multivariate_normal\nfrom chainconsumer import ChainConsumer\n\nif __name__ == \"__main__\":\n\n    np.random.seed(0)\n    means, cov = np.arange(8), random(size=(8, 8))\n    data = multivariate_normal(means, np.dot(cov, cov.T), size=1000000)\n\n    params = [\"$x$\", \"$y$\", \"$z$\", \"a\", \"b\", \"c\", \"d\", \"e\"]\n    c = ChainConsumer().add_chain(data, parameters=params)\n\n    fig = c.plotter.plot_distributions(truth=means)\n\n    fig.set_size_inches(4.5 + fig.get_size_inches())  # Resize fig for doco. You don't need this."
      ],
      "outputs": [],
      "execution_count": null
    }
  ],
  "nbformat_minor": 0,
  "nbformat": 4,
  "metadata": {
    "kernelspec": {
      "name": "python3",
      "display_name": "Python 3",
      "language": "python"
    },
    "language_info": {
      "pygments_lexer": "ipython3",
      "mimetype": "text/x-python",
      "nbconvert_exporter": "python",
      "name": "python",
      "file_extension": ".py",
      "codemirror_mode": {
        "name": "ipython",
        "version": 3
      },
      "version": "3.5.3"
    }
  }
}