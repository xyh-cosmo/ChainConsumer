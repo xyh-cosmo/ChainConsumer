{
  "cells": [
    {
      "cell_type": "code",
      "metadata": {
        "collapsed": false
      },
      "source": [
        "%matplotlib inline"
      ],
      "outputs": [],
      "execution_count": null
    },
    {
      "cell_type": "markdown",
      "source": [
        "\n# Contour Labels\n\n\nPlot contours using labels.\n\nYou can set the contour_labels to display confidence levels, as shown below.\n\n\n"
      ],
      "metadata": {}
    },
    {
      "cell_type": "code",
      "metadata": {
        "collapsed": false
      },
      "source": [
        "from numpy.random import multivariate_normal\nfrom chainconsumer import ChainConsumer\n\n\ndata = multivariate_normal([0, 0], [[1, 0.5], [0.5, 1.0]], size=1000000)\n\n\nc = ChainConsumer().add_chain(data).configure(contour_labels=\"confidence\")\nfig = c.plotter.plot()\nfig.set_size_inches(4.5 + fig.get_size_inches())  # Resize fig for doco. You don't need this."
      ],
      "outputs": [],
      "execution_count": null
    },
    {
      "cell_type": "markdown",
      "source": [
        "Or you can plot in terms of sigma. Note that most people prefer stating\nthe confidence levels, because of the ambiguity over sigma levels introduced\nby the `sigma2d` keyword.\n\n"
      ],
      "metadata": {}
    },
    {
      "cell_type": "code",
      "metadata": {
        "collapsed": false
      },
      "source": [
        "c = ChainConsumer().add_chain(data).configure(contour_labels=\"sigma\")\nfig = c.plotter.plot()\nfig.set_size_inches(4.5 + fig.get_size_inches())  # Resize fig for doco. You don't need this."
      ],
      "outputs": [],
      "execution_count": null
    }
  ],
  "nbformat_minor": 0,
  "nbformat": 4,
  "metadata": {
    "kernelspec": {
      "name": "python3",
      "display_name": "Python 3",
      "language": "python"
    },
    "language_info": {
      "pygments_lexer": "ipython3",
      "mimetype": "text/x-python",
      "nbconvert_exporter": "python",
      "name": "python",
      "file_extension": ".py",
      "codemirror_mode": {
        "name": "ipython",
        "version": 3
      },
      "version": "3.5.3"
    }
  }
}