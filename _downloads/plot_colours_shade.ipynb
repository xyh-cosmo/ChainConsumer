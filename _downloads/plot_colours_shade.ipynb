{
  "cells": [
    {
      "cell_type": "code",
      "metadata": {
        "collapsed": false
      },
      "source": [
        "%matplotlib inline"
      ],
      "outputs": [],
      "execution_count": null
    },
    {
      "cell_type": "markdown",
      "source": [
        "\n# Colours and Shading\n\n\nChoose custom colours and plot multiple chains with shading.\n\nNormally when plotting more than two chains, shading is removed so\nyou can clearly see the outlines. However, you can turn shading back\non and modify the shade opacity if you prefer colourful plots.\n\nNote that the contour shading and marginalised shading are separate\nand are configured independently.\n\nColours should be given as hex colours.\n\n"
      ],
      "metadata": {}
    },
    {
      "cell_type": "code",
      "metadata": {
        "collapsed": false
      },
      "source": [
        "import numpy as np\nfrom numpy.random import normal, multivariate_normal\nfrom chainconsumer import ChainConsumer\n\nif __name__ == \"__main__\":\n    np.random.seed(2)\n    cov = normal(size=(2, 2)) + np.identity(2)\n    d1 = multivariate_normal(normal(size=2), 0.5 * (cov + cov.T), size=100000)\n    cov = normal(size=(2, 2)) + np.identity(2)\n    d2 = multivariate_normal(normal(size=2), 0.5 * (cov + cov.T), size=100000)\n    cov = normal(size=(2, 2)) + np.identity(2)\n    d3 = multivariate_normal(normal(size=2), 0.5 * (cov + cov.T), size=100000)\n\n    c = ChainConsumer().add_chain(d1, parameters=[\"$x$\", \"$y$\"]).add_chain(d2).add_chain(d3)\n    c.configure(colors=[\"#B32222\", \"#D1D10D\", \"#455A64\"], shade=True, shade_alpha=0.2, bar_shade=True)\n    fig = c.plotter.plot()\n\n    fig.set_size_inches(4.5 + fig.get_size_inches())  # Resize fig for doco. You don't need this."
      ],
      "outputs": [],
      "execution_count": null
    }
  ],
  "nbformat_minor": 0,
  "nbformat": 4,
  "metadata": {
    "kernelspec": {
      "name": "python3",
      "display_name": "Python 3",
      "language": "python"
    },
    "language_info": {
      "pygments_lexer": "ipython3",
      "mimetype": "text/x-python",
      "nbconvert_exporter": "python",
      "name": "python",
      "file_extension": ".py",
      "codemirror_mode": {
        "name": "ipython",
        "version": 3
      },
      "version": "3.5.3"
    }
  }
}