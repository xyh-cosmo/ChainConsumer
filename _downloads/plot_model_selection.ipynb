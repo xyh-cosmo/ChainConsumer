{
  "cells": [
    {
      "cell_type": "code",
      "metadata": {
        "collapsed": false
      },
      "source": [
        "%matplotlib inline"
      ],
      "outputs": [],
      "execution_count": null
    },
    {
      "cell_type": "markdown",
      "source": [
        "\n# Plot Model Comparison\n\n\nYou can also get LaTeX tables for model comparison.\n\nTurned into glorious LaTeX, we would get something like the following:\n\n.. figure::     ../../examples/resources/table_comparison.png\n    :align:     center\n    :width:     60%\n\n\n"
      ],
      "metadata": {}
    },
    {
      "cell_type": "markdown",
      "source": [
        "The code to produce this, and the raw LaTeX, is given below:\n\n"
      ],
      "metadata": {}
    },
    {
      "cell_type": "code",
      "metadata": {
        "collapsed": false
      },
      "source": [
        "from scipy.stats import norm\nfrom chainconsumer import ChainConsumer\n\n\nif __name__ == \"__main__\":\n    n = 10000\n    d1 = norm.rvs(size=n)\n    p1 = norm.logpdf(d1)\n    p2 = norm.logpdf(d1, scale=1.1)\n\n    c = ChainConsumer()\n    c.add_chain(d1, posterior=p1, name=\"Model A\", num_eff_data_points=n, num_free_params=4)\n    c.add_chain(d1, posterior=p2, name=\"Model B\", num_eff_data_points=n, num_free_params=5)\n    c.add_chain(d1, posterior=p2, name=\"Model C\", num_eff_data_points=n, num_free_params=4)\n    c.add_chain(d1, posterior=p1, name=\"Model D\", num_eff_data_points=n, num_free_params=14)\n    table = c.comparison.comparison_table(caption=\"Model comparisons!\")\n    print(table)"
      ],
      "outputs": [],
      "execution_count": null
    }
  ],
  "nbformat_minor": 0,
  "nbformat": 4,
  "metadata": {
    "kernelspec": {
      "name": "python3",
      "display_name": "Python 3",
      "language": "python"
    },
    "language_info": {
      "pygments_lexer": "ipython3",
      "mimetype": "text/x-python",
      "nbconvert_exporter": "python",
      "name": "python",
      "file_extension": ".py",
      "codemirror_mode": {
        "name": "ipython",
        "version": 3
      },
      "version": "3.5.3"
    }
  }
}