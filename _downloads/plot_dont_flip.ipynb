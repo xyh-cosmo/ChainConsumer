{
  "cells": [
    {
      "cell_type": "code",
      "metadata": {
        "collapsed": false
      },
      "source": [
        "%matplotlib inline"
      ],
      "outputs": [],
      "execution_count": null
    },
    {
      "cell_type": "markdown",
      "source": [
        "\n=====================\nFlips, Ticks and Size\n=====================\n\nYou can stop the second parameter rotating in the plot if you prefer squares!\n\nUnlike the Introduction example, which shows the rotated plots, this example shows them\nwithout the rotation.\n\nAlso, you can pass in a tuple for the figure size. We also demonstrate adding more\nticks to the axis in this example. Also, I change the colour to red, just for fun.\n\n"
      ],
      "metadata": {}
    },
    {
      "cell_type": "code",
      "metadata": {
        "collapsed": false
      },
      "source": [
        "import numpy as np\nfrom chainconsumer import ChainConsumer\n\nif __name__ == \"__main__\":\n    np.random.seed(0)\n    data = np.random.multivariate_normal([1.5, 4.0], [[1.0, 0.7], [0.7, 1.5]], size=1000000)\n    data[:, 0] = np.abs(data[:, 0])\n\n    c = ChainConsumer().add_chain(data, parameters=[\"$x_1$\", \"$x_2$\"])\n    c.configure(flip=False, max_ticks=10, colors=\"#D32F2F\")\n    fig = c.plotter.plot(figsize=(6, 6))\n\n    fig.set_size_inches(4.5 + fig.get_size_inches())  # Resize fig for doco. You don't need this."
      ],
      "outputs": [],
      "execution_count": null
    }
  ],
  "nbformat_minor": 0,
  "nbformat": 4,
  "metadata": {
    "kernelspec": {
      "name": "python3",
      "display_name": "Python 3",
      "language": "python"
    },
    "language_info": {
      "pygments_lexer": "ipython3",
      "mimetype": "text/x-python",
      "nbconvert_exporter": "python",
      "name": "python",
      "file_extension": ".py",
      "codemirror_mode": {
        "name": "ipython",
        "version": 3
      },
      "version": "3.5.3"
    }
  }
}