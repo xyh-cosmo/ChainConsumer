{
  "cells": [
    {
      "cell_type": "code",
      "metadata": {
        "collapsed": false
      },
      "source": [
        "%matplotlib inline"
      ],
      "outputs": [],
      "execution_count": null
    },
    {
      "cell_type": "markdown",
      "source": [
        "\n# Plot Parameter Covariance\n\n\nYou can also get LaTeX tables for parameter covariance.\n\nTurned into glorious LaTeX, we would get something like the following:\n\n.. figure::     ../../examples/resources/covariance.png\n    :align:     center\n    :width:     60%\n\n\n"
      ],
      "metadata": {}
    },
    {
      "cell_type": "markdown",
      "source": [
        "The code to produce this, and the raw LaTeX, is given below:\n\n"
      ],
      "metadata": {}
    },
    {
      "cell_type": "code",
      "metadata": {
        "collapsed": false
      },
      "source": [
        "import numpy as np\nfrom chainconsumer import ChainConsumer\n\n\nif __name__ == \"__main__\":\n    cov = [[1.0, 0.5, 0.2], [0.5, 2.0, 0.3], [0.2, 0.3, 3.0]]\n    data = np.random.multivariate_normal([0, 0, 1], cov, size=1000000)\n    parameters = [\"x\", \"y\", \"z\"]\n    c = ChainConsumer()\n    c.add_chain(data, parameters=parameters)\n    latex_table = c.analysis.get_covariance_table()\n\n    print(latex_table)"
      ],
      "outputs": [],
      "execution_count": null
    }
  ],
  "nbformat_minor": 0,
  "nbformat": 4,
  "metadata": {
    "kernelspec": {
      "name": "python3",
      "display_name": "Python 3",
      "language": "python"
    },
    "language_info": {
      "pygments_lexer": "ipython3",
      "mimetype": "text/x-python",
      "nbconvert_exporter": "python",
      "name": "python",
      "file_extension": ".py",
      "codemirror_mode": {
        "name": "ipython",
        "version": 3
      },
      "version": "3.5.3"
    }
  }
}