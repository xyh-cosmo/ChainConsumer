{
  "cells": [
    {
      "cell_type": "code",
      "metadata": {
        "collapsed": false
      },
      "source": [
        "%matplotlib inline"
      ],
      "outputs": [],
      "execution_count": null
    },
    {
      "cell_type": "markdown",
      "source": [
        "\n# Three Chains\n\n\nPlot three chains together. Name the chains to get a legend.\n\n\n\n"
      ],
      "metadata": {}
    },
    {
      "cell_type": "code",
      "metadata": {
        "collapsed": false
      },
      "source": [
        "import numpy as np\nfrom numpy.random import normal, random, multivariate_normal\nfrom chainconsumer import ChainConsumer\n\n\nif __name__ == \"__main__\":\n    np.random.seed(0)\n    cov = random(size=(3, 3)) + np.identity(3)\n    data = multivariate_normal(normal(size=3), 0.5 * (cov + cov.T), size=100000)\n    cov = random(size=(3, 3)) + np.identity(3)\n    data2 = multivariate_normal(normal(size=3), 0.5 * (cov + cov.T), size=100000)\n    cov = random(size=(3, 3)) + np.identity(3)\n    data3 = multivariate_normal(normal(size=3), 0.5 * (cov + cov.T), size=100000)\n\n    # If the parameters are the same between chains, you can just pass it the\n    # first time, and they will become the default parameters.\n    fig = ChainConsumer()\\\n        .add_chain(data, parameters=[\"$x$\", \"$y$\", r\"$\\epsilon$\"], name=\"Test chain\")\\\n        .add_chain(data2, name=\"Chain2\")\\\n        .add_chain(data3, name=\"Chain3\") \\\n        .plotter.plot()\n\n    fig.set_size_inches(4.5 + fig.get_size_inches())  # Resize fig for doco. You don't need this."
      ],
      "outputs": [],
      "execution_count": null
    }
  ],
  "nbformat_minor": 0,
  "nbformat": 4,
  "metadata": {
    "kernelspec": {
      "name": "python3",
      "display_name": "Python 3",
      "language": "python"
    },
    "language_info": {
      "pygments_lexer": "ipython3",
      "mimetype": "text/x-python",
      "nbconvert_exporter": "python",
      "name": "python",
      "file_extension": ".py",
      "codemirror_mode": {
        "name": "ipython",
        "version": 3
      },
      "version": "3.5.3"
    }
  }
}