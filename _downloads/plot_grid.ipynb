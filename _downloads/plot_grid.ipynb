{
  "cells": [
    {
      "cell_type": "code",
      "metadata": {
        "collapsed": false
      },
      "source": [
        "%matplotlib inline"
      ],
      "outputs": [],
      "execution_count": null
    },
    {
      "cell_type": "markdown",
      "source": [
        "\n==========\nGrid Data!\n==========\n\nIf you don't have Monte Carlo chains, and have grid evaluations instead, that's fine too!\n\nJust flatten your grid, set the weights to the grid evaluation, and set the grid flag. Here is\na nice diamond that you get from modifying a simple multivariate normal distribution.\n\nNote that by default, grid data is not smoothed, though you can explicitly set the smooth\nparameter in ``configure_general`` if you do want smoothing.\n\nNote that you *cannot* use dictionary input with the grid method and not specify the full\nflattened array. This is because we cannot construct the meshgrid from a dictionary, as\nthe order of the parameters is not preserved in the dictionary.\n\n\n"
      ],
      "metadata": {}
    },
    {
      "cell_type": "code",
      "metadata": {
        "collapsed": false
      },
      "source": [
        "import numpy as np\nfrom chainconsumer import ChainConsumer\n\n\nx, y = np.linspace(-3, 3, 50), np.linspace(-7, 7, 100)\nxx, yy = np.meshgrid(x, y, indexing='ij')\npdf = np.exp(-0.5 * (xx * xx + yy * yy / 4 + np.abs(xx * yy)))\n\nc = ChainConsumer()\nc.add_chain([x, y], parameters=[\"$x$\", \"$y$\"], weights=pdf, grid=True)\nfig = c.plotter.plot()\nfig.set_size_inches(4.5 + fig.get_size_inches())  # Resize fig for doco. You don't need this."
      ],
      "outputs": [],
      "execution_count": null
    },
    {
      "cell_type": "markdown",
      "source": [
        "If you have the flattened array already, you can also pass this\n\n"
      ],
      "metadata": {}
    },
    {
      "cell_type": "code",
      "metadata": {
        "collapsed": false
      },
      "source": [
        "# Turning 2D data to flat data.\nxs, ys = xx.flatten(), yy.flatten()\npdf_flat = pdf.flatten()\nc = ChainConsumer()\nc.add_chain([xs, ys], parameters=[\"$x$\", \"$y$\"], weights=pdf_flat, grid=True)\nc.configure(smooth=1)  # Notice how smoothing changes the results!\nfig = c.plotter.plot()\n\nfig.set_size_inches(4.5 + fig.get_size_inches())  # Resize fig for doco. You don't need this."
      ],
      "outputs": [],
      "execution_count": null
    }
  ],
  "nbformat_minor": 0,
  "nbformat": 4,
  "metadata": {
    "kernelspec": {
      "name": "python3",
      "display_name": "Python 3",
      "language": "python"
    },
    "language_info": {
      "pygments_lexer": "ipython3",
      "mimetype": "text/x-python",
      "nbconvert_exporter": "python",
      "name": "python",
      "file_extension": ".py",
      "codemirror_mode": {
        "name": "ipython",
        "version": 3
      },
      "version": "3.5.3"
    }
  }
}