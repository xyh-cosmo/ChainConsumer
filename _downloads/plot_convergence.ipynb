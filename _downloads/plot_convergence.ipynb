{
  "cells": [
    {
      "cell_type": "code",
      "metadata": {
        "collapsed": false
      },
      "source": [
        "%matplotlib inline"
      ],
      "outputs": [],
      "execution_count": null
    },
    {
      "cell_type": "markdown",
      "source": [
        "\n# Convergence Diagnostics\n\n\nHow to use the built in convergence diagnostic tests!\n\n\n"
      ],
      "metadata": {}
    },
    {
      "cell_type": "markdown",
      "source": [
        "Here we create some good and bad data, and then run convergence tests on it!\n\n"
      ],
      "metadata": {}
    },
    {
      "cell_type": "code",
      "metadata": {
        "collapsed": false
      },
      "source": [
        "import numpy as np\nfrom numpy.random import normal\nfrom chainconsumer import ChainConsumer\n\nnp.random.seed(0)\n# Here we have some nice data, and then some bad data,\n# where the last part of the chain has walked off, and the first part\n# of the chain isn't agreeing with anything else!\ndata_good = normal(size=100000)\ndata_bad = data_good.copy()\ndata_bad += np.linspace(-0.5, 0.5, 100000)\ndata_bad[98000:] += 2\n\n# Lets load it into ChainConsumer, and pretend 10 walks went into making the chain\nc = ChainConsumer()\nc.add_chain(data_good, walkers=10, name=\"good\")\nc.add_chain(data_bad, walkers=10, name=\"bad\")\n\n# Now, lets check our convergence using the Gelman-Rubin statistic\ngelman_rubin_converged = c.diagnostic.gelman_rubin()\n# And also using the Geweke metric\ngeweke_converged = c.diagnostic.geweke()\n\n# Lets just output the results too\nprint(gelman_rubin_converged, geweke_converged)"
      ],
      "outputs": [],
      "execution_count": null
    },
    {
      "cell_type": "markdown",
      "source": [
        "We can see that both the Gelman-Rubin and Geweke statistics failed.\nNote that by not specifying a chain when calling the diagnostics,\nthey are invoked on *all* chains. For example, to invoke the statistic\non only the second chain we can pass in either the chain index, or the chain\nname:\n\n"
      ],
      "metadata": {}
    },
    {
      "cell_type": "code",
      "metadata": {
        "collapsed": false
      },
      "source": [
        "print(c.diagnostic.geweke(chain=\"bad\"))"
      ],
      "outputs": [],
      "execution_count": null
    },
    {
      "cell_type": "markdown",
      "source": [
        "Finally, note that the statistics are set to fail easily. For example,\nif you have 10 chains and run `diagnostic_gelman_rubin` with the defaults,\nyou will get false if *any* parameter of *any* chain has not converged.\nThe printed output will let you know which chains and parameters are\nculpable.\n\n"
      ],
      "metadata": {}
    }
  ],
  "nbformat_minor": 0,
  "nbformat": 4,
  "metadata": {
    "kernelspec": {
      "name": "python3",
      "display_name": "Python 3",
      "language": "python"
    },
    "language_info": {
      "pygments_lexer": "ipython3",
      "mimetype": "text/x-python",
      "nbconvert_exporter": "python",
      "name": "python",
      "file_extension": ".py",
      "codemirror_mode": {
        "name": "ipython",
        "version": 3
      },
      "version": "3.5.3"
    }
  }
}