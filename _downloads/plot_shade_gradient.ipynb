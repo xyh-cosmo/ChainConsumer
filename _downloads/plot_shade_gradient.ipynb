{
  "cells": [
    {
      "cell_type": "code",
      "metadata": {
        "collapsed": false
      },
      "source": [
        "%matplotlib inline"
      ],
      "outputs": [],
      "execution_count": null
    },
    {
      "cell_type": "markdown",
      "source": [
        "\n# Shade Gradient\n\n\nControl contour contrast!\n\nTo help make your confidence levels more obvious, you can play with the gradient steepness and\nresulting contrast in your contours.\n\n"
      ],
      "metadata": {}
    },
    {
      "cell_type": "code",
      "metadata": {
        "collapsed": false
      },
      "source": [
        "import numpy as np\nfrom numpy.random import multivariate_normal\nfrom chainconsumer import ChainConsumer\n\nnp.random.seed(0)\ndata1 = multivariate_normal([0, 0], [[1, 0], [0, 1]], size=1000000)\ndata2 = multivariate_normal([4, -4], [[1, 0], [0, 1]], size=1000000)\n\nc = ChainConsumer()\nc.add_chain(data1, parameters=[\"$x$\", \"$y$\"])\nc.add_chain(data2, parameters=[\"$x$\", \"$y$\"])\nc.configure(shade_gradient=[0.1, 3.0], colors=['o', 'k'], sigmas=[0, 1, 2, 3], shade_alpha=1.0)\nfig = c.plotter.plot()\n\nfig.set_size_inches(4.5 + fig.get_size_inches())  # Resize fig for doco. You don't need this."
      ],
      "outputs": [],
      "execution_count": null
    }
  ],
  "nbformat_minor": 0,
  "nbformat": 4,
  "metadata": {
    "kernelspec": {
      "name": "python3",
      "display_name": "Python 3",
      "language": "python"
    },
    "language_info": {
      "pygments_lexer": "ipython3",
      "mimetype": "text/x-python",
      "nbconvert_exporter": "python",
      "name": "python",
      "file_extension": ".py",
      "codemirror_mode": {
        "name": "ipython",
        "version": 3
      },
      "version": "3.5.3"
    }
  }
}