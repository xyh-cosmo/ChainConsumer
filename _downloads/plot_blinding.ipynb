{
  "cells": [
    {
      "cell_type": "code",
      "metadata": {
        "collapsed": false
      },
      "source": [
        "%matplotlib inline"
      ],
      "outputs": [],
      "execution_count": null
    },
    {
      "cell_type": "markdown",
      "source": [
        "\n# Blinding Parameters\n\n\nYou can blind parameters and not show axis labels very easily!\n\nJust give ChainConsumer the `blind` parameter when plotting. You can specify `True` to blind all parameters,\nor give it a string (or list of strings) detailing the specific parameters you want blinded!\n\n\n"
      ],
      "metadata": {}
    },
    {
      "cell_type": "code",
      "metadata": {
        "collapsed": false
      },
      "source": [
        "import numpy as np\nfrom numpy.random import multivariate_normal\nfrom chainconsumer import ChainConsumer\n\nnp.random.seed(0)\ndata = multivariate_normal([0, 0], [[1, 0], [0, 1]], size=1000000)\n\nc = ChainConsumer().add_chain(data, parameters=[\"$x$\", \"$y$\"])\nc.configure(colors=[\"#00ef7b\"])\nfig = c.plotter.plot(blind=\"$y$\")\n\nfig.set_size_inches(2.5 + fig.get_size_inches())  # Resize fig for doco. You don't need this."
      ],
      "outputs": [],
      "execution_count": null
    }
  ],
  "nbformat_minor": 0,
  "nbformat": 4,
  "metadata": {
    "kernelspec": {
      "name": "python3",
      "display_name": "Python 3",
      "language": "python"
    },
    "language_info": {
      "pygments_lexer": "ipython3",
      "mimetype": "text/x-python",
      "nbconvert_exporter": "python",
      "name": "python",
      "file_extension": ".py",
      "codemirror_mode": {
        "name": "ipython",
        "version": 3
      },
      "version": "3.5.3"
    }
  }
}