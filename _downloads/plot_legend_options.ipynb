{
  "cells": [
    {
      "cell_type": "code",
      "metadata": {
        "collapsed": false
      },
      "source": [
        "%matplotlib inline"
      ],
      "outputs": [],
      "execution_count": null
    },
    {
      "cell_type": "markdown",
      "source": [
        "\n# Legend Options\n\n\nLegends are hard.\n\nBecause of that, you can pass any keywords to the legend call you want via `legend_kwargs`.\n\n"
      ],
      "metadata": {}
    },
    {
      "cell_type": "code",
      "metadata": {
        "collapsed": false
      },
      "source": [
        "import numpy as np\nfrom numpy.random import multivariate_normal\nfrom chainconsumer import ChainConsumer\n\nnp.random.seed(0)\ndata1 = multivariate_normal([0, 0], [[1, 0], [0, 1]], size=1000000)\ndata2 = data1 + 2\n\nc = ChainConsumer()\nc.add_chain(data1, parameters=[\"$x$\", \"$y$\"], name=\"Chain 1\")\nc.add_chain(data2, parameters=[\"$x$\", \"$y$\"], name=\"Chain 2\")\nc.configure(colors=['lb', 'g'])\nfig = c.plotter.plot()\nfig.set_size_inches(2.5 + fig.get_size_inches())  # Resize fig for doco. You don't need this."
      ],
      "outputs": [],
      "execution_count": null
    },
    {
      "cell_type": "markdown",
      "source": [
        "If the linestyles are different and the colours are the same, the artists\nwill reappear.\n\n"
      ],
      "metadata": {}
    },
    {
      "cell_type": "code",
      "metadata": {
        "collapsed": false
      },
      "source": [
        "c = ChainConsumer()\nc.add_chain(data1, parameters=[\"$x$\", \"$y$\"], name=\"Chain 1\")\nc.add_chain(data2, parameters=[\"$x$\", \"$y$\"], name=\"Chain 2\")\nc.configure(colors=['lb', 'lb'], linestyles=[\"-\", \"--\"])\nfig = c.plotter.plot()\nfig.set_size_inches(2.5 + fig.get_size_inches())  # Resize fig for doco. You don't need this."
      ],
      "outputs": [],
      "execution_count": null
    },
    {
      "cell_type": "markdown",
      "source": [
        "You might also want to relocate the legend to another subplot if your\ncontours don't have enough space for the legend!\n\n"
      ],
      "metadata": {}
    },
    {
      "cell_type": "code",
      "metadata": {
        "collapsed": false
      },
      "source": [
        "c = ChainConsumer()\nc.add_chain(data1, parameters=[\"$x$\", \"$y$\"], name=\"Chain 1\")\nc.add_chain(data2, parameters=[\"$x$\", \"$y$\"], name=\"Chain 2\")\nc.configure(linestyles=[\"-\", \"--\"], sigmas=[0, 1, 2, 3],\n            legend_kwargs={\"loc\": \"upper left\", \"fontsize\": 10},\n            legend_color_text=False, legend_location=(0, 0))\nfig = c.plotter.plot(figsize=1.5)\nfig.set_size_inches(2.5 + fig.get_size_inches())  # Resize fig for doco. You don't need this."
      ],
      "outputs": [],
      "execution_count": null
    }
  ],
  "nbformat_minor": 0,
  "nbformat": 4,
  "metadata": {
    "kernelspec": {
      "name": "python3",
      "display_name": "Python 3",
      "language": "python"
    },
    "language_info": {
      "pygments_lexer": "ipython3",
      "mimetype": "text/x-python",
      "nbconvert_exporter": "python",
      "name": "python",
      "file_extension": ".py",
      "codemirror_mode": {
        "name": "ipython",
        "version": 3
      },
      "version": "3.5.3"
    }
  }
}