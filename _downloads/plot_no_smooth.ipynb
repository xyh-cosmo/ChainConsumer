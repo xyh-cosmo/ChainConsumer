{
  "cells": [
    {
      "cell_type": "code",
      "metadata": {
        "collapsed": false
      },
      "source": [
        "%matplotlib inline"
      ],
      "outputs": [],
      "execution_count": null
    },
    {
      "cell_type": "markdown",
      "source": [
        "\n# No Smoothing\n\n\nWe can turn off the default gaussian filter on marginalised distributions.\n\nThis can be done by setting ``smooth`` to either ``0``, ``None`` or ``False``.\nNote that the parameter summaries also have smoothing turned off, and\nthus summaries may change.\n\nFun colour change! And thicker lines!\n\n\n"
      ],
      "metadata": {}
    },
    {
      "cell_type": "code",
      "metadata": {
        "collapsed": false
      },
      "source": [
        "import numpy as np\nfrom chainconsumer import ChainConsumer\n\nif __name__ == \"__main__\":\n    data = np.random.multivariate_normal([0.0, 4.0], [[1.0, 0.7], [0.7, 1.5]], size=100000)\n\n    c = ChainConsumer()\n    c.add_chain(data, parameters=[\"$x_1$\", \"$x_2$\"])\n    c.configure(smooth=0, linewidths=2, colors=\"#673AB7\")\n    fig = c.plotter.plot(figsize=\"column\", truth=[0.0, 4.0])\n\n    # If we wanted to save to file, we would instead have written\n    # fig = c.plotter.plot(filename=\"location\", figsize=\"column\", truth=[0.0, 4.0])\n\n    # If we wanted to display the plot interactively...\n    # fig = c.plotter.plot(display=True, figsize=\"column\", truth=[0.0, 4.0])\n\n    fig.set_size_inches(4.5 + fig.get_size_inches())  # Resize fig for doco. You don't need this."
      ],
      "outputs": [],
      "execution_count": null
    }
  ],
  "nbformat_minor": 0,
  "nbformat": 4,
  "metadata": {
    "kernelspec": {
      "name": "python3",
      "display_name": "Python 3",
      "language": "python"
    },
    "language_info": {
      "pygments_lexer": "ipython3",
      "mimetype": "text/x-python",
      "nbconvert_exporter": "python",
      "name": "python",
      "file_extension": ".py",
      "codemirror_mode": {
        "name": "ipython",
        "version": 3
      },
      "version": "3.5.3"
    }
  }
}