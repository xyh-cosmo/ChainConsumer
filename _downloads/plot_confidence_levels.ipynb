{
  "cells": [
    {
      "cell_type": "code",
      "metadata": {
        "collapsed": false
      },
      "source": [
        "%matplotlib inline"
      ],
      "outputs": [],
      "execution_count": null
    },
    {
      "cell_type": "markdown",
      "source": [
        "\n# Confidence Levels\n\n\nWhen setting the sigma levels for ChainConsumer, we need to be careful\nif we are talking about 1D or 2D Gaussians. For 1D Gaussians, 1 and 2 $\\sigma$ correspond\nto 68% and 95% confidence levels. However, for a a 2D Gaussian, integrating over 1 and 2 $\\sigma$\nlevels gives 39% and 86% confidence levels.\n\nBy default ChainConsumer uses the 2D levels, such that the contours will line up and agree with the\nmarginalised distributions shown above them, however you can also choose to switch to using the 1D\nGaussian method, such that the contour encloses 68% and 95% confidence regions, by switching `sigma2d` to `False` \n\n\n"
      ],
      "metadata": {}
    },
    {
      "cell_type": "code",
      "metadata": {
        "collapsed": false
      },
      "source": [
        "import numpy as np\nfrom numpy.random import multivariate_normal\nfrom chainconsumer import ChainConsumer\n\nnp.random.seed(0)\ndata = multivariate_normal([0, 0], [[1, 0], [0, 1]], size=1000000)\n\nc = ChainConsumer().add_chain(data, parameters=[\"$x$\", \"$y$\"])\nc.configure(flip=False, sigma2d=True, sigmas=[0, 1, 2])  # The default case, so you don't need to specify sigma2d\nfig = c.plotter.plot()\n\nfig.set_size_inches(4.5 + fig.get_size_inches())  # Resize fig for doco. You don't need this."
      ],
      "outputs": [],
      "execution_count": null
    },
    {
      "cell_type": "markdown",
      "source": [
        "Demonstrating the 1D Gaussian confidence levels. Notice the change in contour size\nThe contours shown below now show the 68% and 95% confidence regions.\n\n"
      ],
      "metadata": {}
    },
    {
      "cell_type": "code",
      "metadata": {
        "collapsed": false
      },
      "source": [
        "c = ChainConsumer().add_chain(data, parameters=[\"$x$\", \"$y$\"])\nc.configure(flip=False, sigma2d=False, sigmas=[0, 1, 2])  # The default case, so you don't need to specify sigma2d\nfig = c.plotter.plot()\n\n\nfig.set_size_inches(4.5 + fig.get_size_inches())  # Resize fig for doco. You don't need this."
      ],
      "outputs": [],
      "execution_count": null
    }
  ],
  "nbformat_minor": 0,
  "nbformat": 4,
  "metadata": {
    "kernelspec": {
      "name": "python3",
      "display_name": "Python 3",
      "language": "python"
    },
    "language_info": {
      "pygments_lexer": "ipython3",
      "mimetype": "text/x-python",
      "nbconvert_exporter": "python",
      "name": "python",
      "file_extension": ".py",
      "codemirror_mode": {
        "name": "ipython",
        "version": 3
      },
      "version": "3.5.3"
    }
  }
}