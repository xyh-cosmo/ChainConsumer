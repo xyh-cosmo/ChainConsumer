{
  "cells": [
    {
      "cell_type": "code",
      "metadata": {
        "collapsed": false
      },
      "source": [
        "%matplotlib inline"
      ],
      "outputs": [],
      "execution_count": null
    },
    {
      "cell_type": "markdown",
      "source": [
        "\n# Change Font Options\n\n\nControl tick rotation and font sizes.\n\nHere the tick rotation has been turned off, ticks made smaller,\nmore ticks added, and label size increased!\n\n"
      ],
      "metadata": {}
    },
    {
      "cell_type": "code",
      "metadata": {
        "collapsed": false
      },
      "source": [
        "import numpy as np\nfrom numpy.random import multivariate_normal\nfrom chainconsumer import ChainConsumer\n\nif __name__ == \"__main__\":\n    np.random.seed(0)\n    data = multivariate_normal([0, 1, 2], np.eye(3) + 0.2, size=100000)\n\n    # If you pass in parameter labels and only one chain, you can also get parameter bounds\n    c = ChainConsumer()\n    c.add_chain(data, parameters=[\"$x$\", \"$y^2$\", r\"$\\Omega_\\beta$\"], name=\"Example\")\n    c.configure(diagonal_tick_labels=False, tick_font_size=8, label_font_size=25, max_ticks=8)\n    fig = c.plotter.plot(figsize=\"column\", legend=True)\n\n    fig.set_size_inches(4.5 + fig.get_size_inches())  # Resize fig for doco. You don't need this."
      ],
      "outputs": [],
      "execution_count": null
    }
  ],
  "nbformat_minor": 0,
  "nbformat": 4,
  "metadata": {
    "kernelspec": {
      "name": "python3",
      "display_name": "Python 3",
      "language": "python"
    },
    "language_info": {
      "pygments_lexer": "ipython3",
      "mimetype": "text/x-python",
      "nbconvert_exporter": "python",
      "name": "python",
      "file_extension": ".py",
      "codemirror_mode": {
        "name": "ipython",
        "version": 3
      },
      "version": "3.5.3"
    }
  }
}