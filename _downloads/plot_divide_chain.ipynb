{
  "cells": [
    {
      "cell_type": "code",
      "metadata": {
        "collapsed": false
      },
      "source": [
        "%matplotlib inline"
      ],
      "outputs": [],
      "execution_count": null
    },
    {
      "cell_type": "markdown",
      "source": [
        "\n# Dividing a chain\n\n\nChainConsumer can split one chain into many!\n\nIf you use a sampling algorithm with multiple walkers (which\nis fairly common), it can be useful to plot each walker as a separate chain\nso that you can verify that your walkers have all converged to the same place.\n\nYou can use the `plot_walks` method for this, or the convergence diagnostics,\nbut the more options the better!\n\nIn the below example, I assume the generated data was created using ten walkers.\nI introduce some fake shift in the data to badly emulate walker drift.\n\n\n"
      ],
      "metadata": {}
    },
    {
      "cell_type": "code",
      "metadata": {
        "collapsed": false
      },
      "source": [
        "import numpy as np\nfrom numpy.random import multivariate_normal\nfrom chainconsumer import ChainConsumer\n\n\nif __name__ == \"__main__\":\n    np.random.seed(0)\n    data = multivariate_normal([0.0, 4.0], [[1.0, 0.7], [0.7, 1.5]], size=1000000)\n    data[:, 0] += np.linspace(0, 1, data.shape[0])\n\n    c = ChainConsumer().add_chain(data, parameters=[\"$x$\", \"$y$\"], walkers=5)\n    c2 = c.divide_chain()\n    fig = c2.plotter.plot()\n\n    fig.set_size_inches(4.5 + fig.get_size_inches())  # Resize fig for doco. You don't need this."
      ],
      "outputs": [],
      "execution_count": null
    }
  ],
  "nbformat_minor": 0,
  "nbformat": 4,
  "metadata": {
    "kernelspec": {
      "name": "python3",
      "display_name": "Python 3",
      "language": "python"
    },
    "language_info": {
      "pygments_lexer": "ipython3",
      "mimetype": "text/x-python",
      "nbconvert_exporter": "python",
      "name": "python",
      "file_extension": ".py",
      "codemirror_mode": {
        "name": "ipython",
        "version": 3
      },
      "version": "3.5.3"
    }
  }
}