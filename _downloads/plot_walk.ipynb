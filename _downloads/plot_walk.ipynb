{
  "cells": [
    {
      "cell_type": "code",
      "metadata": {
        "collapsed": false
      },
      "source": [
        "%matplotlib inline"
      ],
      "outputs": [],
      "execution_count": null
    },
    {
      "cell_type": "markdown",
      "source": [
        "\n# Plot Walks\n\n\nYou can also plot the walks that your chains have undertaken.\n\nThis is a very helpful plot to create when determining if your chains have\nconverged and mixed. Below is an example walk from a Metropolis-Hastings run,\nwhere we have set the optional parameters for the weights and posteriors,\ngiving the top two subplots.\n\n.. figure::     ../../examples/resources/exampleWalk.png\n    :align:     center\n\n\n"
      ],
      "metadata": {}
    },
    {
      "cell_type": "markdown",
      "source": [
        "To generate your own walk, with a 100 point smoothed walk overplotting,\nyou can use the following code:\n\n"
      ],
      "metadata": {}
    },
    {
      "cell_type": "code",
      "metadata": {
        "collapsed": false
      },
      "source": [
        "import numpy as np\nfrom chainconsumer import ChainConsumer\n\nif __name__ == \"__main__\":\n    np.random.seed(0)\n    data1 = np.random.randn(100000, 2)\n    data2 = np.random.randn(100000, 2) - 2\n    data1[:, 1] += 1\n\n    c = ChainConsumer()\n    c.add_chain(data1, parameters=[\"$x$\", \"$y$\"])\n    c.add_chain(data2, parameters=[\"$x$\", \"$z$\"])\n    fig = c.plotter.plot_walks(truth={\"$x$\": -1, \"$y$\": 1, \"$z$\": -2}, convolve=100)\n\n    fig.set_size_inches(4.5 + fig.get_size_inches())  # Resize fig for doco. You don't need this."
      ],
      "outputs": [],
      "execution_count": null
    }
  ],
  "nbformat_minor": 0,
  "nbformat": 4,
  "metadata": {
    "kernelspec": {
      "name": "python3",
      "display_name": "Python 3",
      "language": "python"
    },
    "language_info": {
      "pygments_lexer": "ipython3",
      "mimetype": "text/x-python",
      "nbconvert_exporter": "python",
      "name": "python",
      "file_extension": ".py",
      "codemirror_mode": {
        "name": "ipython",
        "version": 3
      },
      "version": "3.5.3"
    }
  }
}