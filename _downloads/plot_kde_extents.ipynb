{
  "cells": [
    {
      "cell_type": "code",
      "metadata": {
        "collapsed": false
      },
      "source": [
        "%matplotlib inline"
      ],
      "outputs": [],
      "execution_count": null
    },
    {
      "cell_type": "markdown",
      "source": [
        "\n# Gaussian KDE and Extents\n\n\nSmooth marginalised distributions with a Gaussian KDE, and pick custom extents.\n\n\nNote that invoking the KDE on large data sets will significantly increase rendering time when\nyou have a large number of points. You can also pass a float to your KDE to modify the width\nof the bandpass by that factor!\n\nYou can see the increase in contour smoothness (without broadening) for when you have a\nlow number of samples in your chains!\n\n"
      ],
      "metadata": {}
    },
    {
      "cell_type": "code",
      "metadata": {
        "collapsed": false
      },
      "source": [
        "import numpy as np\nfrom chainconsumer import ChainConsumer\n\nif __name__ == \"__main__\":\n    np.random.seed(0)\n    data = np.random.multivariate_normal([0.0, 4.0], [[1.0, -0.7], [-0.7, 1.5]], size=3000)\n\n    c = ChainConsumer()\n    c.add_chain(data, name=\"KDE on\")\n    c.add_chain(data + 1, name=\"KDE off\")\n    c.add_chain(data + 2, name=\"KDE x2!\")\n    c.configure(kde=[True, False, 2.0], shade_alpha=0.1, flip=False)\n    fig = c.plotter.plot(extents=[(-2, 4), (0, 9)])\n\n    fig.set_size_inches(4.5 + fig.get_size_inches())  # Resize fig for doco. You don't need this."
      ],
      "outputs": [],
      "execution_count": null
    }
  ],
  "nbformat_minor": 0,
  "nbformat": 4,
  "metadata": {
    "kernelspec": {
      "name": "python3",
      "display_name": "Python 3",
      "language": "python"
    },
    "language_info": {
      "pygments_lexer": "ipython3",
      "mimetype": "text/x-python",
      "nbconvert_exporter": "python",
      "name": "python",
      "file_extension": ".py",
      "codemirror_mode": {
        "name": "ipython",
        "version": 3
      },
      "version": "3.5.3"
    }
  }
}