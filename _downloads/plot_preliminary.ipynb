{
  "cells": [
    {
      "cell_type": "code",
      "metadata": {
        "collapsed": false
      },
      "source": [
        "%matplotlib inline"
      ],
      "outputs": [],
      "execution_count": null
    },
    {
      "cell_type": "markdown",
      "source": [
        "\n# Watermarking Plots\n\n\nMake it obvious that those results are preliminary!\n\n\nIt's easy to do, just supply a string to the `watermark` option when plotting your contours,\nand remember that when using TeX `matplotlib` settings like `weight` don't do anything -\nif you want bold text make it TeX bold.\n\nThe code for this is based off the preliminize github repo at\nhttps://github.com/cpadavis/preliminize, which will add watermark to arbitrary\nfigures!\n\n\n"
      ],
      "metadata": {}
    },
    {
      "cell_type": "code",
      "metadata": {
        "collapsed": false
      },
      "source": [
        "import numpy as np\nfrom numpy.random import multivariate_normal\nfrom chainconsumer import ChainConsumer\n\nnp.random.seed(0)\ndata1 = multivariate_normal([3, 5], [[1, 0], [0, 1]], size=1000000)\ndata2 = multivariate_normal([5, 3], [[1, 0], [0, 1]], size=10000)\n\n\nc = ChainConsumer()\nc.add_chain(data1, parameters=[\"$x$\", \"$y$\"], name=\"Good results\")\nc.add_chain(data2, name=\"Unfinished results\")\nfig = c.plotter.plot(watermark=r\"\\textbf{Preliminary}\", figsize=2.0)"
      ],
      "outputs": [],
      "execution_count": null
    },
    {
      "cell_type": "markdown",
      "source": [
        "You can also control the text options sent to the matplotlib text call.\n\n"
      ],
      "metadata": {}
    },
    {
      "cell_type": "code",
      "metadata": {
        "collapsed": false
      },
      "source": [
        "c = ChainConsumer()\nc.add_chain(data1, parameters=[\"$x$\", \"$y$\"], name=\"Good results\")\nc.add_chain(data2, name=\"Unfinished results\")\nkwargs = {\"color\": \"purple\", \"alpha\": 1.0, \"family\": \"sanserif\", \"usetex\": False, \"weight\": \"bold\"}\nc.configure(watermark_text_kwargs=kwargs, flip=True)\nfig = c.plotter.plot(watermark=\"SECRET RESULTS\", figsize=2.0)"
      ],
      "outputs": [],
      "execution_count": null
    }
  ],
  "nbformat_minor": 0,
  "nbformat": 4,
  "metadata": {
    "kernelspec": {
      "name": "python3",
      "display_name": "Python 3",
      "language": "python"
    },
    "language_info": {
      "pygments_lexer": "ipython3",
      "mimetype": "text/x-python",
      "nbconvert_exporter": "python",
      "name": "python",
      "file_extension": ".py",
      "codemirror_mode": {
        "name": "ipython",
        "version": 3
      },
      "version": "3.5.3"
    }
  }
}