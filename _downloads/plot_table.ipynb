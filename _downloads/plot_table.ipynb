{
  "cells": [
    {
      "cell_type": "code",
      "metadata": {
        "collapsed": false
      },
      "source": [
        "%matplotlib inline"
      ],
      "outputs": [],
      "execution_count": null
    },
    {
      "cell_type": "markdown",
      "source": [
        "\n# Plot Tables\n\n\nYou can also get LaTeX tables for parameter summaries.\n\nTurned into glorious LaTeX, we would get something like the following:\n\n.. figure::     ../../examples/resources/table.png\n    :align:     center\n\n\n"
      ],
      "metadata": {}
    },
    {
      "cell_type": "markdown",
      "source": [
        "The code to produce this, and the raw LaTeX, is given below:\n\n"
      ],
      "metadata": {}
    },
    {
      "cell_type": "code",
      "metadata": {
        "collapsed": false
      },
      "source": [
        "import numpy as np\nfrom chainconsumer import ChainConsumer\n\n\nif __name__ == \"__main__\":\n    ndim, nsamples = 4, 200000\n    np.random.seed(0)\n\n    data = np.random.randn(nsamples, ndim)\n    data[:, 2] += data[:, 1] * data[:, 2]\n    data[:, 1] = data[:, 1] * 3 + 5\n    data[:, 3] /= (np.abs(data[:, 1]) + 1)\n\n    data2 = np.random.randn(nsamples, ndim)\n    data2[:, 0] -= 1\n    data2[:, 2] += data2[:, 1]**2\n    data2[:, 1] = data2[:, 1] * 2 - 5\n    data2[:, 3] = data2[:, 3] * 1.5 + 2\n\n    # If you pass in parameter labels and only one chain, you can also get parameter bounds\n    c = ChainConsumer()\n    c.add_chain(data, parameters=[\"$x$\", \"$y$\", r\"$\\alpha$\", r\"$\\beta$\"], name=\"Model A\")\n    c.add_chain(data2, parameters=[\"$x$\", \"$y$\", r\"$\\alpha$\", r\"$\\gamma$\"], name=\"Model B\")\n    table = c.analysis.get_latex_table(caption=\"Results for the tested models\", label=\"tab:example\")\n    print(table)"
      ],
      "outputs": [],
      "execution_count": null
    }
  ],
  "nbformat_minor": 0,
  "nbformat": 4,
  "metadata": {
    "kernelspec": {
      "name": "python3",
      "display_name": "Python 3",
      "language": "python"
    },
    "language_info": {
      "pygments_lexer": "ipython3",
      "mimetype": "text/x-python",
      "nbconvert_exporter": "python",
      "name": "python",
      "file_extension": ".py",
      "codemirror_mode": {
        "name": "ipython",
        "version": 3
      },
      "version": "3.5.3"
    }
  }
}