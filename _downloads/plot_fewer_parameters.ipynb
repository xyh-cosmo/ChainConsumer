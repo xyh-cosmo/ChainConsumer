{
  "cells": [
    {
      "cell_type": "code",
      "metadata": {
        "collapsed": false
      },
      "source": [
        "%matplotlib inline"
      ],
      "outputs": [],
      "execution_count": null
    },
    {
      "cell_type": "markdown",
      "source": [
        "\n# Truncated Parameters\n\n\nIf you have a large model, you don't need to plot all parameters at once.\n\nHere we only plot the first four parameters. You could also simply pass the number four,\nwhich means the *first* four parameters.\n\nFor fun, we also plot everything in green. Note you don't need to give multiple colours,\nthe shading is all computed from the colour hex code.\n\n"
      ],
      "metadata": {}
    },
    {
      "cell_type": "code",
      "metadata": {
        "collapsed": false
      },
      "source": [
        "import numpy as np\nfrom numpy.random import normal, random, multivariate_normal\nfrom chainconsumer import ChainConsumer\n\n\nif __name__ == \"__main__\":\n    np.random.seed(0)\n    cov = random(size=(6, 6))\n    data = multivariate_normal(normal(size=6), 0.5 * (cov + cov.T), size=200000)\n    parameters = [\"$x$\", \"$y$\", \"$z$\", \"$a$\", \"$b$\", \"$c$\"]\n    c = ChainConsumer().add_chain(data, parameters=parameters).configure(colors=\"#388E3C\")\n    fig = c.plotter.plot(parameters=parameters[:4], figsize=\"page\")\n\n    fig.set_size_inches(4.5 + fig.get_size_inches())  # Resize fig for doco. You don't need this."
      ],
      "outputs": [],
      "execution_count": null
    }
  ],
  "nbformat_minor": 0,
  "nbformat": 4,
  "metadata": {
    "kernelspec": {
      "name": "python3",
      "display_name": "Python 3",
      "language": "python"
    },
    "language_info": {
      "pygments_lexer": "ipython3",
      "mimetype": "text/x-python",
      "nbconvert_exporter": "python",
      "name": "python",
      "file_extension": ".py",
      "codemirror_mode": {
        "name": "ipython",
        "version": 3
      },
      "version": "3.5.3"
    }
  }
}