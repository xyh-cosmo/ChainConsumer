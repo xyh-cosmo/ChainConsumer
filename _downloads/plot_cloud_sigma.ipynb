{
  "cells": [
    {
      "cell_type": "code",
      "metadata": {
        "collapsed": false
      },
      "source": [
        "%matplotlib inline"
      ],
      "outputs": [],
      "execution_count": null
    },
    {
      "cell_type": "markdown",
      "source": [
        "\n# Cloud and Sigma Levels\n\n\nChoose custom sigma levels and display point cloud.\n\nIn this example we display more sigma levels, turn on the point cloud, and\ndisable the parameter summaries on the top of the marginalised distributions.\n\nNote that because of the very highly correlated distribution we have, it is\nuseful to increase the number of bins the plots are generated with, to capture the\nthinness of the correlation.\n\n"
      ],
      "metadata": {}
    },
    {
      "cell_type": "code",
      "metadata": {
        "collapsed": false
      },
      "source": [
        "import numpy as np\nfrom numpy.random import normal, multivariate_normal\nfrom chainconsumer import ChainConsumer\n\nif __name__ == \"__main__\":\n    np.random.seed(1)\n    cov = normal(size=(3, 3))\n    data = multivariate_normal(normal(size=3), 0.5 * (cov + cov.T), size=100000)\n\n    c = ChainConsumer().add_chain(data, parameters=[\"$x$\", \"$y$\", \"$z$\"])\n    c.configure(summary=False, bins=1.4, cloud=True, sigmas=np.linspace(0, 2, 10))\n    fig = c.plotter.plot()\n\n    fig.set_size_inches(4.5 + fig.get_size_inches())  # Resize fig for doco. You don't need this."
      ],
      "outputs": [],
      "execution_count": null
    }
  ],
  "nbformat_minor": 0,
  "nbformat": 4,
  "metadata": {
    "kernelspec": {
      "name": "python3",
      "display_name": "Python 3",
      "language": "python"
    },
    "language_info": {
      "pygments_lexer": "ipython3",
      "mimetype": "text/x-python",
      "nbconvert_exporter": "python",
      "name": "python",
      "file_extension": ".py",
      "codemirror_mode": {
        "name": "ipython",
        "version": 3
      },
      "version": "3.5.3"
    }
  }
}